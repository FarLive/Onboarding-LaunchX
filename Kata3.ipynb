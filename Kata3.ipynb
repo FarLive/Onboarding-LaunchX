{
 "cells": [
  {
   "cell_type": "markdown",
   "metadata": {},
   "source": [
    "# Ejercicio 1"
   ]
  },
  {
   "cell_type": "code",
   "execution_count": 4,
   "metadata": {},
   "outputs": [
    {
     "name": "stdout",
     "output_type": "stream",
     "text": [
      "¡ADVERTENCIA: ASTEROIDE EN CAMINO!\n"
     ]
    }
   ],
   "source": [
    "# Añadir el código necesario para crear una variable que guarde la velocidad del asteroide.\n",
    "# Escribe una expresión de prueba para calcular si necesita una advertencia.\n",
    "# Agregue las instrucciones que se ejecutarán si la expresión de prueba es true o false.\n",
    "\n",
    "asteroide = 49\n",
    "\n",
    "if asteroide > 25:\n",
    "    print(\"¡ADVERTENCIA: ASTEROIDE EN CAMINO!\")\n",
    "else:\n",
    "    print(\"No hay ningun peligro\")"
   ]
  },
  {
   "cell_type": "markdown",
   "metadata": {},
   "source": [
    "# Ejercicio 2"
   ]
  },
  {
   "cell_type": "code",
   "execution_count": 5,
   "metadata": {},
   "outputs": [
    {
     "name": "stdout",
     "output_type": "stream",
     "text": [
      "¡No puede verse nada!\n"
     ]
    }
   ],
   "source": [
    "# Agrega el código para crear una variable para un asteroide que viaja a 19 km/s\n",
    "# Escribe varias expresiones de prueba para determinar si puedes ver el rayo de luz desde la tierra\n",
    "# Agrega las instrucciones que se ejecutarán si las expresiones de prueba son True o False\n",
    "\n",
    "asteroide = 19\n",
    "\n",
    "if asteroide >= 20:\n",
    "    print(\"¡Puede verse un rayo de luz desde la Tierra!\")\n",
    "elif asteroide < 20:\n",
    "    print(\"¡No puede verse nada!\")\n",
    "else:\n",
    "    print(\"No hay ningun asteroide\")\n",
    "    "
   ]
  },
  {
   "cell_type": "markdown",
   "metadata": {},
   "source": [
    "# Ejercicio 3"
   ]
  },
  {
   "cell_type": "code",
   "execution_count": 6,
   "metadata": {},
   "outputs": [
    {
     "name": "stdout",
     "output_type": "stream",
     "text": [
      "¡PELIGRO: el asteroide puede ser catastrofico!\n"
     ]
    }
   ],
   "source": [
    "# Agrega el código para crear nuevas variables para la velocidad y el tamaño del asteroide\n",
    "# Para probar el código, prueba con varias velocidades y tamaños\n",
    "# Escribe varias expresiones de prueba o combinaciones de expresiones de prueba para determinar qué mensaje se debe enviar a Tierra.\n",
    "\n",
    "velocidad_asteroide = 50\n",
    "tamaño_asteroide = 50\n",
    "\n",
    "if tamaño_asteroide < 25:\n",
    "    print(\"No hay nada de que preocuparse\")\n",
    "elif tamaño_asteroide > 25 and tamaño_asteroide < 1000 and velocidad_asteroide > 25:\n",
    "    print(\"¡PELIGRO: el asteroide puede ser catastrofico!\")\n",
    "elif velocidad_asteroide >= 20:\n",
    "    print(\"¡Puede verse un rayo de luz desde la Tierra!\")\n",
    "else:\n",
    "    print(\"No hay nada de que preocuparse\")"
   ]
  }
 ],
 "metadata": {
  "interpreter": {
   "hash": "b89b5cfaba6639976dc87ff2fec6d58faec662063367e2c229c520fe71072417"
  },
  "kernelspec": {
   "display_name": "Python 3.10.1 64-bit",
   "language": "python",
   "name": "python3"
  },
  "language_info": {
   "codemirror_mode": {
    "name": "ipython",
    "version": 3
   },
   "file_extension": ".py",
   "mimetype": "text/x-python",
   "name": "python",
   "nbconvert_exporter": "python",
   "pygments_lexer": "ipython3",
   "version": "3.10.1"
  },
  "orig_nbformat": 4
 },
 "nbformat": 4,
 "nbformat_minor": 2
}
