{
 "cells": [
  {
   "cell_type": "markdown",
   "metadata": {},
   "source": [
    "# Ejercicio 1"
   ]
  },
  {
   "cell_type": "code",
   "execution_count": 1,
   "metadata": {},
   "outputs": [],
   "source": [
    "# Función para leer 3 tanques de combustible y muestre el promedio\n",
    "def combustible(tanque1,tanque2,tanque3):\n",
    "    informe = (tanque1 + tanque2 + tanque3) / 3\n",
    "    return informe"
   ]
  },
  {
   "cell_type": "code",
   "execution_count": 2,
   "metadata": {},
   "outputs": [
    {
     "name": "stdout",
     "output_type": "stream",
     "text": [
      "El promedio de combustibles es de: 130.0%\n"
     ]
    }
   ],
   "source": [
    "# Llamamos a la función que genera el reporte print(funcion(tanque1, tanque2, tanque3))\n",
    "print(f'El promedio de combustibles es de: {(combustible(90,100,200))}%')"
   ]
  },
  {
   "cell_type": "code",
   "execution_count": 3,
   "metadata": {},
   "outputs": [
    {
     "data": {
      "text/plain": [
       "90.0"
      ]
     },
     "execution_count": 3,
     "metadata": {},
     "output_type": "execute_result"
    }
   ],
   "source": [
    "# Función promedio \n",
    "def promedio(numeros):\n",
    "    totalCombustible = sum(numeros)\n",
    "    numeroTanques = len(numeros)\n",
    "    return totalCombustible / numeroTanques\n",
    "\n",
    "promedio([100,80,90])\n",
    "    "
   ]
  },
  {
   "cell_type": "code",
   "execution_count": 4,
   "metadata": {},
   "outputs": [
    {
     "name": "stdout",
     "output_type": "stream",
     "text": [
      "Informe:\n",
      "    Total de combustible: 78.0%\n",
      "    Tanque1: 88%\n",
      "    Tanque2: 76%\n",
      "    Tanque3: 70% \n",
      "    \n"
     ]
    }
   ],
   "source": [
    "# Actualiza la función\n",
    "def combustible(tanque1, tanque2, tanque3):\n",
    "    return f\"\"\"Informe:\n",
    "    Total de combustible: {promedio([tanque1, tanque2, tanque3])}%\n",
    "    Tanque1: {tanque1}%\n",
    "    Tanque2: {tanque2}%\n",
    "    Tanque3: {tanque3}% \n",
    "    \"\"\"\n",
    "\n",
    "# Call the updated function again with different values\n",
    "print(combustible(88, 76, 70))\n",
    "    "
   ]
  },
  {
   "cell_type": "markdown",
   "metadata": {},
   "source": [
    "# Ejercicio 2"
   ]
  },
  {
   "cell_type": "code",
   "execution_count": 5,
   "metadata": {},
   "outputs": [
    {
     "name": "stdout",
     "output_type": "stream",
     "text": [
      "Informe de la mision\n",
      "    Destino: Luna\n",
      "    Tiempo total para llegar: 120 minutos\n",
      "    Combustible del tanque izquierdo: 200 galones\n",
      "\n"
     ]
    }
   ],
   "source": [
    "# Función con un informe preciso de la misión. Considera hora de prelanzamiento, tiempo de vuelo, destino, tanque externo y tanque interno\n",
    "def informe(tiempo_destino, combustibleIzq, nombre_destino):\n",
    "    return f\"\"\"Informe de la mision\n",
    "    Destino: {nombre_destino}\n",
    "    Tiempo total para llegar: {tiempo_destino} minutos\n",
    "    Combustible del tanque izquierdo: {combustibleIzq} galones\n",
    "\"\"\"\n",
    "\n",
    "print(informe(120, 200, 'Luna'))\n",
    "    "
   ]
  },
  {
   "cell_type": "code",
   "execution_count": 6,
   "metadata": {},
   "outputs": [
    {
     "name": "stdout",
     "output_type": "stream",
     "text": [
      "Informe de la mision\n",
      "    Destino: Luna\n",
      "    Tiempo total para llegar: 200 minutos\n",
      "    Combustible del tanque izquierdo: 32000 galones\n",
      "\n"
     ]
    }
   ],
   "source": [
    "# Escribe tu nueva función de reporte considerando lo anterior\n",
    "def informe(nombre_destino, *tiempo_destino, **combustibleIzq):\n",
    "        return f\"\"\"Informe de la mision\n",
    "    Destino: {nombre_destino}\n",
    "    Tiempo total para llegar: {sum(tiempo_destino)} minutos\n",
    "    Combustible del tanque izquierdo: {sum(combustibleIzq.values())} galones\n",
    "\"\"\"\n",
    "\n",
    "print(informe('Luna', 120, 80, principal=30000, izquierdo=2000))\n",
    "    "
   ]
  },
  {
   "cell_type": "code",
   "execution_count": 7,
   "metadata": {},
   "outputs": [
    {
     "name": "stdout",
     "output_type": "stream",
     "text": [
      "Informe de la mision\n",
      "    Destino: Luna\n",
      "    Tiempo total para llegar: 200 minutos\n",
      "    Combustible total del tanque: 32000 galones\n",
      "    Tanque principal --> 30000 galones izq\n",
      "Tanque izquierdo --> 2000 galones izq\n",
      "\n"
     ]
    }
   ],
   "source": [
    "# Escribe tu nueva función\n",
    "def informe(nombre_destino, *tiempo_destino, **combustible):\n",
    "    reporte = f\"\"\"Informe de la mision\n",
    "    Destino: {nombre_destino}\n",
    "    Tiempo total para llegar: {sum(tiempo_destino)} minutos\n",
    "    Combustible total del tanque: {sum(combustible.values())} galones\n",
    "    \"\"\"\n",
    "    for nombre_tanque, galones in combustible.items():\n",
    "        reporte += f'Tanque {nombre_tanque} --> {galones} galones izq\\n'\n",
    "    return reporte\n",
    "\n",
    "print(informe('Luna', 120, 80, principal=30000, izquierdo=2000))\n",
    "    "
   ]
  }
 ],
 "metadata": {
  "interpreter": {
   "hash": "b89b5cfaba6639976dc87ff2fec6d58faec662063367e2c229c520fe71072417"
  },
  "kernelspec": {
   "display_name": "Python 3.10.1 64-bit",
   "language": "python",
   "name": "python3"
  },
  "language_info": {
   "codemirror_mode": {
    "name": "ipython",
    "version": 3
   },
   "file_extension": ".py",
   "mimetype": "text/x-python",
   "name": "python",
   "nbconvert_exporter": "python",
   "pygments_lexer": "ipython3",
   "version": "3.10.1"
  },
  "orig_nbformat": 4
 },
 "nbformat": 4,
 "nbformat_minor": 2
}
